{
 "cells": [
  {
   "cell_type": "markdown",
   "metadata": {},
   "source": [
    "# VacationPy\n",
    "----\n",
    "\n",
    "#### Note\n",
    "* Instructions have been included for each segment. You do not have to follow them exactly, but they are included to help you think through the steps."
   ]
  },
  {
   "cell_type": "code",
   "execution_count": 1,
   "metadata": {},
   "outputs": [],
   "source": [
    "# Dependencies and Setup\n",
    "import matplotlib.pyplot as plt\n",
    "import pandas as pd\n",
    "import numpy as np\n",
    "import requests\n",
    "import gmaps\n",
    "import os\n",
    "\n",
    "# Import API key\n",
    "from api_keys import g_key\n"
   ]
  },
  {
   "cell_type": "markdown",
   "metadata": {},
   "source": [
    "### Store Part I results into DataFrame\n",
    "* Load the csv exported in Part I to a DataFrame"
   ]
  },
  {
   "cell_type": "code",
   "execution_count": 2,
   "metadata": {},
   "outputs": [
    {
     "data": {
      "text/html": [
       "<div>\n",
       "<style scoped>\n",
       "    .dataframe tbody tr th:only-of-type {\n",
       "        vertical-align: middle;\n",
       "    }\n",
       "\n",
       "    .dataframe tbody tr th {\n",
       "        vertical-align: top;\n",
       "    }\n",
       "\n",
       "    .dataframe thead th {\n",
       "        text-align: right;\n",
       "    }\n",
       "</style>\n",
       "<table border=\"1\" class=\"dataframe\">\n",
       "  <thead>\n",
       "    <tr style=\"text-align: right;\">\n",
       "      <th></th>\n",
       "      <th>cities</th>\n",
       "      <th>cloudiness</th>\n",
       "      <th>country</th>\n",
       "      <th>date</th>\n",
       "      <th>humidity</th>\n",
       "      <th>lat</th>\n",
       "      <th>lon</th>\n",
       "      <th>temp_max</th>\n",
       "      <th>temp_min</th>\n",
       "      <th>wind_speed</th>\n",
       "    </tr>\n",
       "  </thead>\n",
       "  <tbody>\n",
       "    <tr>\n",
       "      <td>0</td>\n",
       "      <td>ushuaia</td>\n",
       "      <td>40</td>\n",
       "      <td>AR</td>\n",
       "      <td>1577941103</td>\n",
       "      <td>45</td>\n",
       "      <td>-54.81</td>\n",
       "      <td>-68.31</td>\n",
       "      <td>62.60</td>\n",
       "      <td>62.60</td>\n",
       "      <td>8.05</td>\n",
       "    </tr>\n",
       "    <tr>\n",
       "      <td>1</td>\n",
       "      <td>jardim</td>\n",
       "      <td>39</td>\n",
       "      <td>BR</td>\n",
       "      <td>1577941103</td>\n",
       "      <td>92</td>\n",
       "      <td>-21.48</td>\n",
       "      <td>-56.15</td>\n",
       "      <td>71.74</td>\n",
       "      <td>71.74</td>\n",
       "      <td>0.38</td>\n",
       "    </tr>\n",
       "    <tr>\n",
       "      <td>2</td>\n",
       "      <td>hermanus</td>\n",
       "      <td>69</td>\n",
       "      <td>ZA</td>\n",
       "      <td>1577940566</td>\n",
       "      <td>86</td>\n",
       "      <td>-34.42</td>\n",
       "      <td>19.24</td>\n",
       "      <td>64.99</td>\n",
       "      <td>62.01</td>\n",
       "      <td>1.01</td>\n",
       "    </tr>\n",
       "    <tr>\n",
       "      <td>3</td>\n",
       "      <td>mount isa</td>\n",
       "      <td>40</td>\n",
       "      <td>GB</td>\n",
       "      <td>1577941103</td>\n",
       "      <td>81</td>\n",
       "      <td>53.66</td>\n",
       "      <td>-1.85</td>\n",
       "      <td>44.01</td>\n",
       "      <td>39.99</td>\n",
       "      <td>12.75</td>\n",
       "    </tr>\n",
       "    <tr>\n",
       "      <td>4</td>\n",
       "      <td>monmouth</td>\n",
       "      <td>90</td>\n",
       "      <td>GB</td>\n",
       "      <td>1577941104</td>\n",
       "      <td>87</td>\n",
       "      <td>51.81</td>\n",
       "      <td>-2.72</td>\n",
       "      <td>46.99</td>\n",
       "      <td>43.00</td>\n",
       "      <td>5.82</td>\n",
       "    </tr>\n",
       "    <tr>\n",
       "      <td>...</td>\n",
       "      <td>...</td>\n",
       "      <td>...</td>\n",
       "      <td>...</td>\n",
       "      <td>...</td>\n",
       "      <td>...</td>\n",
       "      <td>...</td>\n",
       "      <td>...</td>\n",
       "      <td>...</td>\n",
       "      <td>...</td>\n",
       "      <td>...</td>\n",
       "    </tr>\n",
       "    <tr>\n",
       "      <td>243</td>\n",
       "      <td>satipo</td>\n",
       "      <td>100</td>\n",
       "      <td>PE</td>\n",
       "      <td>1577941123</td>\n",
       "      <td>96</td>\n",
       "      <td>-11.26</td>\n",
       "      <td>-74.64</td>\n",
       "      <td>60.40</td>\n",
       "      <td>60.40</td>\n",
       "      <td>2.28</td>\n",
       "    </tr>\n",
       "    <tr>\n",
       "      <td>244</td>\n",
       "      <td>shitanjing</td>\n",
       "      <td>0</td>\n",
       "      <td>CN</td>\n",
       "      <td>1577940592</td>\n",
       "      <td>48</td>\n",
       "      <td>39.23</td>\n",
       "      <td>106.34</td>\n",
       "      <td>30.88</td>\n",
       "      <td>30.88</td>\n",
       "      <td>3.85</td>\n",
       "    </tr>\n",
       "    <tr>\n",
       "      <td>245</td>\n",
       "      <td>zhob</td>\n",
       "      <td>86</td>\n",
       "      <td>PK</td>\n",
       "      <td>1577941124</td>\n",
       "      <td>44</td>\n",
       "      <td>31.34</td>\n",
       "      <td>69.45</td>\n",
       "      <td>42.40</td>\n",
       "      <td>42.40</td>\n",
       "      <td>4.79</td>\n",
       "    </tr>\n",
       "    <tr>\n",
       "      <td>246</td>\n",
       "      <td>ambam</td>\n",
       "      <td>95</td>\n",
       "      <td>CM</td>\n",
       "      <td>1577941124</td>\n",
       "      <td>90</td>\n",
       "      <td>2.38</td>\n",
       "      <td>11.27</td>\n",
       "      <td>71.38</td>\n",
       "      <td>71.38</td>\n",
       "      <td>3.13</td>\n",
       "    </tr>\n",
       "    <tr>\n",
       "      <td>247</td>\n",
       "      <td>tacuarembo</td>\n",
       "      <td>59</td>\n",
       "      <td>UY</td>\n",
       "      <td>1577941124</td>\n",
       "      <td>95</td>\n",
       "      <td>-31.73</td>\n",
       "      <td>-55.98</td>\n",
       "      <td>60.58</td>\n",
       "      <td>60.58</td>\n",
       "      <td>7.02</td>\n",
       "    </tr>\n",
       "  </tbody>\n",
       "</table>\n",
       "<p>248 rows × 10 columns</p>\n",
       "</div>"
      ],
      "text/plain": [
       "         cities  cloudiness country        date  humidity    lat     lon  \\\n",
       "0       ushuaia          40      AR  1577941103        45 -54.81  -68.31   \n",
       "1        jardim          39      BR  1577941103        92 -21.48  -56.15   \n",
       "2      hermanus          69      ZA  1577940566        86 -34.42   19.24   \n",
       "3     mount isa          40      GB  1577941103        81  53.66   -1.85   \n",
       "4      monmouth          90      GB  1577941104        87  51.81   -2.72   \n",
       "..          ...         ...     ...         ...       ...    ...     ...   \n",
       "243      satipo         100      PE  1577941123        96 -11.26  -74.64   \n",
       "244  shitanjing           0      CN  1577940592        48  39.23  106.34   \n",
       "245        zhob          86      PK  1577941124        44  31.34   69.45   \n",
       "246       ambam          95      CM  1577941124        90   2.38   11.27   \n",
       "247  tacuarembo          59      UY  1577941124        95 -31.73  -55.98   \n",
       "\n",
       "     temp_max  temp_min  wind_speed  \n",
       "0       62.60     62.60        8.05  \n",
       "1       71.74     71.74        0.38  \n",
       "2       64.99     62.01        1.01  \n",
       "3       44.01     39.99       12.75  \n",
       "4       46.99     43.00        5.82  \n",
       "..        ...       ...         ...  \n",
       "243     60.40     60.40        2.28  \n",
       "244     30.88     30.88        3.85  \n",
       "245     42.40     42.40        4.79  \n",
       "246     71.38     71.38        3.13  \n",
       "247     60.58     60.58        7.02  \n",
       "\n",
       "[248 rows x 10 columns]"
      ]
     },
     "execution_count": 2,
     "metadata": {},
     "output_type": "execute_result"
    }
   ],
   "source": [
    "file = \"../WeatherPy/output/cities.csv\"\n",
    "\n",
    "cities_df =  pd.read_csv(file)\n",
    "cities_df"
   ]
  },
  {
   "cell_type": "markdown",
   "metadata": {},
   "source": [
    "### Humidity Heatmap\n",
    "* Configure gmaps.\n",
    "* Use the Lat and Lng as locations and Humidity as the weight.\n",
    "* Add Heatmap layer to map."
   ]
  },
  {
   "cell_type": "code",
   "execution_count": 3,
   "metadata": {},
   "outputs": [],
   "source": [
    "locations = cities_df[[\"lat\", \"lon\"]]\n",
    "humidity = cities_df[\"humidity\"].astype(float)\n"
   ]
  },
  {
   "cell_type": "code",
   "execution_count": 4,
   "metadata": {},
   "outputs": [
    {
     "data": {
      "application/vnd.jupyter.widget-view+json": {
       "model_id": "cfb75ff8e9ef4ea99a41794b9a172bf0",
       "version_major": 2,
       "version_minor": 0
      },
      "text/plain": [
       "Figure(layout=FigureLayout(height='420px'))"
      ]
     },
     "metadata": {},
     "output_type": "display_data"
    }
   ],
   "source": [
    "fig = gmaps.figure(map_type=\"TERRAIN\")\n",
    "\n",
    "heat_layer = gmaps.heatmap_layer(locations, weights=humidity,\n",
    "                                dissipating=False, max_intensity=100,\n",
    "                                point_radius=1)\n",
    "\n",
    "fig.add_layer(heat_layer)\n",
    "\n",
    "fig"
   ]
  },
  {
   "cell_type": "markdown",
   "metadata": {},
   "source": [
    "### Create new DataFrame fitting weather criteria\n",
    "* Narrow down the cities to fit weather conditions.\n",
    "* Drop any rows will null values."
   ]
  },
  {
   "cell_type": "code",
   "execution_count": 12,
   "metadata": {},
   "outputs": [
    {
     "data": {
      "text/plain": [
       "4"
      ]
     },
     "execution_count": 12,
     "metadata": {},
     "output_type": "execute_result"
    }
   ],
   "source": [
    "perfect_temp_min = cities_df[\"temp_min\"]>60\n",
    "perfect_wind = cities_df[\"wind_speed\"]<25\n",
    "perfect_clouds = cities_df[\"cloudiness\"]<50\n",
    "perfect_destination = cities_df[(cities_df[\"temp_min\"]>72) & (cities_df[\"wind_speed\"]<10) & (cities_df[\"cloudiness\"]<10)]\n",
    "\n",
    "#filterinfDataframe = dfObj[(dfObj['Sale'] > 30) & (dfObj['Sale'] < 33) ]\n",
    "\n",
    "#perfect_destination=perfect_destination.dropna(how=\"any\")\n",
    "\n",
    "\n",
    "\n",
    "len(perfect_destination)"
   ]
  },
  {
   "cell_type": "markdown",
   "metadata": {},
   "source": [
    "### Hotel Map\n",
    "* Store into variable named `hotel_df`.\n",
    "* Add a \"Hotel Name\" column to the DataFrame.\n",
    "* Set parameters to search for hotels with 5000 meters.\n",
    "* Hit the Google Places API for each city's coordinates.\n",
    "* Store the first Hotel result into the DataFrame.\n",
    "* Plot markers on top of the heatmap."
   ]
  },
  {
   "cell_type": "code",
   "execution_count": 13,
   "metadata": {},
   "outputs": [
    {
     "name": "stderr",
     "output_type": "stream",
     "text": [
      "C:\\Users\\bandi\\Anaconda3\\lib\\site-packages\\ipykernel_launcher.py:2: SettingWithCopyWarning: \n",
      "A value is trying to be set on a copy of a slice from a DataFrame.\n",
      "Try using .loc[row_indexer,col_indexer] = value instead\n",
      "\n",
      "See the caveats in the documentation: http://pandas.pydata.org/pandas-docs/stable/user_guide/indexing.html#returning-a-view-versus-a-copy\n",
      "  \n"
     ]
    },
    {
     "data": {
      "text/html": [
       "<div>\n",
       "<style scoped>\n",
       "    .dataframe tbody tr th:only-of-type {\n",
       "        vertical-align: middle;\n",
       "    }\n",
       "\n",
       "    .dataframe tbody tr th {\n",
       "        vertical-align: top;\n",
       "    }\n",
       "\n",
       "    .dataframe thead th {\n",
       "        text-align: right;\n",
       "    }\n",
       "</style>\n",
       "<table border=\"1\" class=\"dataframe\">\n",
       "  <thead>\n",
       "    <tr style=\"text-align: right;\">\n",
       "      <th></th>\n",
       "      <th>cities</th>\n",
       "      <th>cloudiness</th>\n",
       "      <th>country</th>\n",
       "      <th>date</th>\n",
       "      <th>humidity</th>\n",
       "      <th>lat</th>\n",
       "      <th>lon</th>\n",
       "      <th>temp_max</th>\n",
       "      <th>temp_min</th>\n",
       "      <th>wind_speed</th>\n",
       "      <th>Hotel Name</th>\n",
       "    </tr>\n",
       "  </thead>\n",
       "  <tbody>\n",
       "    <tr>\n",
       "      <td>14</td>\n",
       "      <td>carnarvon</td>\n",
       "      <td>0</td>\n",
       "      <td>ZA</td>\n",
       "      <td>1577940556</td>\n",
       "      <td>35</td>\n",
       "      <td>-30.97</td>\n",
       "      <td>22.13</td>\n",
       "      <td>74.62</td>\n",
       "      <td>74.62</td>\n",
       "      <td>4.43</td>\n",
       "      <td></td>\n",
       "    </tr>\n",
       "    <tr>\n",
       "      <td>28</td>\n",
       "      <td>jamestown</td>\n",
       "      <td>0</td>\n",
       "      <td>AU</td>\n",
       "      <td>1577941105</td>\n",
       "      <td>8</td>\n",
       "      <td>-33.21</td>\n",
       "      <td>138.60</td>\n",
       "      <td>93.16</td>\n",
       "      <td>93.16</td>\n",
       "      <td>9.01</td>\n",
       "      <td></td>\n",
       "    </tr>\n",
       "    <tr>\n",
       "      <td>185</td>\n",
       "      <td>champerico</td>\n",
       "      <td>5</td>\n",
       "      <td>MX</td>\n",
       "      <td>1577941119</td>\n",
       "      <td>69</td>\n",
       "      <td>16.38</td>\n",
       "      <td>-93.60</td>\n",
       "      <td>75.20</td>\n",
       "      <td>75.20</td>\n",
       "      <td>4.70</td>\n",
       "      <td></td>\n",
       "    </tr>\n",
       "    <tr>\n",
       "      <td>234</td>\n",
       "      <td>nicoya</td>\n",
       "      <td>2</td>\n",
       "      <td>CR</td>\n",
       "      <td>1577941123</td>\n",
       "      <td>69</td>\n",
       "      <td>10.15</td>\n",
       "      <td>-85.45</td>\n",
       "      <td>78.80</td>\n",
       "      <td>73.00</td>\n",
       "      <td>9.17</td>\n",
       "      <td></td>\n",
       "    </tr>\n",
       "  </tbody>\n",
       "</table>\n",
       "</div>"
      ],
      "text/plain": [
       "         cities  cloudiness country        date  humidity    lat     lon  \\\n",
       "14    carnarvon           0      ZA  1577940556        35 -30.97   22.13   \n",
       "28    jamestown           0      AU  1577941105         8 -33.21  138.60   \n",
       "185  champerico           5      MX  1577941119        69  16.38  -93.60   \n",
       "234      nicoya           2      CR  1577941123        69  10.15  -85.45   \n",
       "\n",
       "     temp_max  temp_min  wind_speed Hotel Name  \n",
       "14      74.62     74.62        4.43             \n",
       "28      93.16     93.16        9.01             \n",
       "185     75.20     75.20        4.70             \n",
       "234     78.80     73.00        9.17             "
      ]
     },
     "execution_count": 13,
     "metadata": {},
     "output_type": "execute_result"
    }
   ],
   "source": [
    "hotel_df = perfect_destination\n",
    "hotel_df[\"Hotel Name\"] = \"\"\n",
    "hotel_df"
   ]
  },
  {
   "cell_type": "code",
   "execution_count": null,
   "metadata": {},
   "outputs": [],
   "source": [
    "base_url = \"https://maps.googleapis.com/maps/api/place/nearbysearch/json\"\n",
    "\n",
    "perfect_loc = perfect_destination[[\"lat\", \"lon\"]]\n",
    "params = {\n",
    "    \"location\": perfect_loc,  \n",
    "    \"rankby\": \"distance\",\n",
    "    \"type\": \"restaurant\",\n",
    "    \"key\": gkey,\n",
    "    \"radius\": 5000\n",
    "}\n"
   ]
  },
  {
   "cell_type": "code",
   "execution_count": null,
   "metadata": {},
   "outputs": [],
   "source": []
  },
  {
   "cell_type": "code",
   "execution_count": null,
   "metadata": {},
   "outputs": [],
   "source": [
    "\n"
   ]
  },
  {
   "cell_type": "code",
   "execution_count": 6,
   "metadata": {},
   "outputs": [
    {
     "ename": "NameError",
     "evalue": "name 'narrowed_city_df' is not defined",
     "output_type": "error",
     "traceback": [
      "\u001b[1;31m---------------------------------------------------------------------------\u001b[0m",
      "\u001b[1;31mNameError\u001b[0m                                 Traceback (most recent call last)",
      "\u001b[1;32m<ipython-input-6-f8dffc31712f>\u001b[0m in \u001b[0;36m<module>\u001b[1;34m\u001b[0m\n\u001b[0;32m     11\u001b[0m \u001b[1;31m# Store the DataFrame Row\u001b[0m\u001b[1;33m\u001b[0m\u001b[1;33m\u001b[0m\u001b[1;33m\u001b[0m\u001b[0m\n\u001b[0;32m     12\u001b[0m \u001b[1;31m# NOTE: be sure to update with your DataFrame name\u001b[0m\u001b[1;33m\u001b[0m\u001b[1;33m\u001b[0m\u001b[1;33m\u001b[0m\u001b[0m\n\u001b[1;32m---> 13\u001b[1;33m \u001b[0mhotel_info\u001b[0m \u001b[1;33m=\u001b[0m \u001b[1;33m[\u001b[0m\u001b[0minfo_box_template\u001b[0m\u001b[1;33m.\u001b[0m\u001b[0mformat\u001b[0m\u001b[1;33m(\u001b[0m\u001b[1;33m**\u001b[0m\u001b[0mrow\u001b[0m\u001b[1;33m)\u001b[0m \u001b[1;32mfor\u001b[0m \u001b[0mindex\u001b[0m\u001b[1;33m,\u001b[0m \u001b[0mrow\u001b[0m \u001b[1;32min\u001b[0m \u001b[0mnarrowed_city_df\u001b[0m\u001b[1;33m.\u001b[0m\u001b[0miterrows\u001b[0m\u001b[1;33m(\u001b[0m\u001b[1;33m)\u001b[0m\u001b[1;33m]\u001b[0m\u001b[1;33m\u001b[0m\u001b[1;33m\u001b[0m\u001b[0m\n\u001b[0m\u001b[0;32m     14\u001b[0m \u001b[0mlocations\u001b[0m \u001b[1;33m=\u001b[0m \u001b[0mhotel_df\u001b[0m\u001b[1;33m[\u001b[0m\u001b[1;33m[\u001b[0m\u001b[1;34m\"Lat\"\u001b[0m\u001b[1;33m,\u001b[0m \u001b[1;34m\"Lng\"\u001b[0m\u001b[1;33m]\u001b[0m\u001b[1;33m]\u001b[0m\u001b[1;33m\u001b[0m\u001b[1;33m\u001b[0m\u001b[0m\n",
      "\u001b[1;31mNameError\u001b[0m: name 'narrowed_city_df' is not defined"
     ]
    }
   ],
   "source": [
    "# NOTE: Do not change any of the code in this cell\n",
    "\n",
    "# Using the template add the hotel marks to the heatmap\n",
    "info_box_template = \"\"\"\n",
    "<dl>\n",
    "<dt>Name</dt><dd>{Hotel Name}</dd>\n",
    "<dt>City</dt><dd>{City}</dd>\n",
    "<dt>Country</dt><dd>{Country}</dd>\n",
    "</dl>\n",
    "\"\"\"\n",
    "# Store the DataFrame Row\n",
    "# NOTE: be sure to update with your DataFrame name\n",
    "hotel_info = [info_box_template.format(**row) for index, row in narrowed_city_df.iterrows()]\n",
    "locations = hotel_df[[\"Lat\", \"Lng\"]]"
   ]
  },
  {
   "cell_type": "code",
   "execution_count": null,
   "metadata": {},
   "outputs": [],
   "source": [
    "# Add marker layer ontop of heat map\n",
    "\n",
    "\n",
    "# Display Map"
   ]
  }
 ],
 "metadata": {
  "kernelspec": {
   "display_name": "Python 3",
   "language": "python",
   "name": "python3"
  },
  "language_info": {
   "codemirror_mode": {
    "name": "ipython",
    "version": 3
   },
   "file_extension": ".py",
   "mimetype": "text/x-python",
   "name": "python",
   "nbconvert_exporter": "python",
   "pygments_lexer": "ipython3",
   "version": "3.7.4"
  },
  "latex_envs": {
   "LaTeX_envs_menu_present": true,
   "autoclose": false,
   "autocomplete": true,
   "bibliofile": "biblio.bib",
   "cite_by": "apalike",
   "current_citInitial": 1,
   "eqLabelWithNumbers": true,
   "eqNumInitial": 1,
   "hotkeys": {
    "equation": "Ctrl-E",
    "itemize": "Ctrl-I"
   },
   "labels_anchors": false,
   "latex_user_defs": false,
   "report_style_numbering": false,
   "user_envs_cfg": false
  }
 },
 "nbformat": 4,
 "nbformat_minor": 2
}
