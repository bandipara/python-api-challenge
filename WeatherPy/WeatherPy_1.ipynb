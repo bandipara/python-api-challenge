{
 "cells": [
  {
   "cell_type": "markdown",
   "metadata": {},
   "source": [
    "# WeatherPy\n",
    "----\n",
    "\n",
    "#### Note\n",
    "* Instructions have been included for each segment. You do not have to follow them exactly, but they are included to help you think through the steps."
   ]
  },
  {
   "cell_type": "code",
   "execution_count": 10,
   "metadata": {
    "scrolled": true
   },
   "outputs": [],
   "source": [
    "# Dependencies and Setup\n",
    "import matplotlib.pyplot as plt\n",
    "import pandas as pd\n",
    "import numpy as np\n",
    "import requests\n",
    "import time\n",
    "from scipy.stats import linregress\n",
    "\n",
    "# Import API key\n",
    "from api_keys import weather_api_key\n",
    "\n",
    "# Incorporated citipy to determine city based on latitude and longitude\n",
    "from citipy import citipy\n",
    "\n",
    "# Output File (CSV)\n",
    "output_data_file = \"output_data/cities.csv\"\n",
    "\n",
    "# Range of latitudes and longitudes\n",
    "lat_range = (-90, 90)\n",
    "lng_range = (-180, 180)"
   ]
  },
  {
   "cell_type": "markdown",
   "metadata": {},
   "source": [
    "## Generate Cities List"
   ]
  },
  {
   "cell_type": "code",
   "execution_count": 14,
   "metadata": {},
   "outputs": [
    {
     "data": {
      "text/plain": [
       "['rikitea',\n",
       " 'port elizabeth',\n",
       " 'mount isa',\n",
       " 'new norfolk',\n",
       " 'punta arenas',\n",
       " 'manokwari',\n",
       " 'long',\n",
       " 'albany',\n",
       " 'maniitsoq',\n",
       " 'nanortalik',\n",
       " 'faanui',\n",
       " 'tucuma',\n",
       " 'kloulklubed',\n",
       " 'saldanha',\n",
       " 'hermanus',\n",
       " 'vaini',\n",
       " 'hobart',\n",
       " 'butaritari',\n",
       " 'avarua',\n",
       " 'torbay',\n",
       " 'shetpe',\n",
       " 'portland',\n",
       " 'nizhneyansk',\n",
       " 'mitsamiouli',\n",
       " 'los zacatones',\n",
       " 'port alfred',\n",
       " 'chokurdakh',\n",
       " 'manyana',\n",
       " 'hilo',\n",
       " 'sitka',\n",
       " 'gold coast',\n",
       " 'arua',\n",
       " 'basse',\n",
       " 'ushuaia',\n",
       " 'tasbuget',\n",
       " 'ginir',\n",
       " 'lodja',\n",
       " 'busselton',\n",
       " 'mataura',\n",
       " 'yellowknife',\n",
       " 'tabiauea',\n",
       " 'tonstad',\n",
       " 'east retford']"
      ]
     },
     "execution_count": 14,
     "metadata": {},
     "output_type": "execute_result"
    }
   ],
   "source": [
    "# List for holding lat_lngs and cities\n",
    "lat_lngs = []\n",
    "cities = []\n",
    "\n",
    "# Create a set of random lat and lng combinations\n",
    "lats = np.random.uniform(low=-90.000, high=90.000, size=50)\n",
    "lngs = np.random.uniform(low=-180.000, high=180.000, size=50)\n",
    "lat_lngs = zip(lats, lngs)\n",
    "\n",
    "# Identify nearest city for each lat, lng combination\n",
    "for lat_lng in lat_lngs:\n",
    "    city = citipy.nearest_city(lat_lng[0], lat_lng[1]).city_name\n",
    "    \n",
    "    # If the city is unique, then add it to a our cities list\n",
    "    if city not in cities:\n",
    "        cities.append(city)\n",
    "\n",
    "# Print the city count to confirm sufficient count\n",
    "len(cities)\n"
   ]
  },
  {
   "cell_type": "code",
   "execution_count": 19,
   "metadata": {},
   "outputs": [
    {
     "data": {
      "text/plain": [
       "'http://api.openweathermap.org/data/2.5/weather?appid=c55e1c9f1c3f28bab994931b713e9682&q='"
      ]
     },
     "execution_count": 19,
     "metadata": {},
     "output_type": "execute_result"
    }
   ],
   "source": [
    "url = \"http://api.openweathermap.org/data/2.5/weather?\"\n",
    "\n",
    "# Build query URL\n",
    "query_url = url + \"appid=\" + weather_api_key + \"&q=\"\n",
    "query_url"
   ]
  },
  {
   "cell_type": "markdown",
   "metadata": {},
   "source": [
    "### Perform API Calls\n",
    "* Perform a weather check on each city using a series of successive API calls.\n",
    "* Include a print log of each city as it'sbeing processed (with the city number and city name).\n"
   ]
  },
  {
   "cell_type": "code",
   "execution_count": 20,
   "metadata": {},
   "outputs": [
    {
     "name": "stdout",
     "output_type": "stream",
     "text": [
      "{'coord': {'lon': -134.97, 'lat': -23.12}, 'weather': [{'id': 804, 'main': 'Clouds', 'description': 'overcast clouds', 'icon': '04d'}], 'base': 'model', 'main': {'temp': 299.29, 'feels_like': 301.21, 'temp_min': 299.29, 'temp_max': 299.29, 'pressure': 1016, 'humidity': 78, 'sea_level': 1016, 'grnd_level': 1016}, 'wind': {'speed': 3.97, 'deg': 51}, 'clouds': {'all': 100}, 'dt': 1577921907, 'sys': {'country': 'PF', 'sunrise': 1577888243, 'sunset': 1577936938}, 'timezone': -32400, 'id': 4030556, 'name': 'Rikitea', 'cod': 200}\n",
      "{'coord': {'lon': -74.98, 'lat': 39.31}, 'weather': [{'id': 800, 'main': 'Clear', 'description': 'clear sky', 'icon': '01n'}], 'base': 'stations', 'main': {'temp': 274.77, 'feels_like': 270.65, 'temp_min': 271.48, 'temp_max': 278.15, 'pressure': 1012, 'humidity': 80}, 'visibility': 16093, 'wind': {'speed': 2.76, 'deg': 278}, 'clouds': {'all': 1}, 'dt': 1577921908, 'sys': {'type': 1, 'id': 4902, 'country': 'US', 'sunrise': 1577881179, 'sunset': 1577915197}, 'timezone': -18000, 'id': 4501427, 'name': 'Port Elizabeth', 'cod': 200}\n",
      "{'coord': {'lon': 139.49, 'lat': -20.73}, 'weather': [{'id': 803, 'main': 'Clouds', 'description': 'broken clouds', 'icon': '04d'}], 'base': 'model', 'main': {'temp': 309.2, 'feels_like': 309.33, 'temp_min': 309.2, 'temp_max': 309.2, 'pressure': 1010, 'humidity': 31, 'sea_level': 1010, 'grnd_level': 968}, 'wind': {'speed': 2.78, 'deg': 245}, 'clouds': {'all': 76}, 'dt': 1577921908, 'sys': {'country': 'AU', 'sunrise': 1577909073, 'sunset': 1577957179}, 'timezone': 36000, 'id': 2065594, 'name': 'Mount Isa', 'cod': 200}\n",
      "{'coord': {'lon': 147.06, 'lat': -42.78}, 'weather': [{'id': 803, 'main': 'Clouds', 'description': 'broken clouds', 'icon': '04d'}], 'base': 'stations', 'main': {'temp': 292.45, 'feels_like': 287.75, 'temp_min': 290.37, 'temp_max': 293.71, 'pressure': 1015, 'humidity': 39}, 'visibility': 10000, 'wind': {'speed': 5.1, 'deg': 290}, 'clouds': {'all': 75}, 'dt': 1577921908, 'sys': {'type': 1, 'id': 9545, 'country': 'AU', 'sunrise': 1577903837, 'sunset': 1577958781}, 'timezone': 39600, 'id': 2155415, 'name': 'New Norfolk', 'cod': 200}\n",
      "{'coord': {'lon': -70.91, 'lat': -53.16}, 'weather': [{'id': 804, 'main': 'Clouds', 'description': 'overcast clouds', 'icon': '04d'}], 'base': 'stations', 'main': {'temp': 292.09, 'feels_like': 286.29, 'temp_min': 292.04, 'temp_max': 292.15, 'pressure': 1003, 'humidity': 45}, 'visibility': 10000, 'wind': {'speed': 7.2, 'deg': 260}, 'clouds': {'all': 90}, 'dt': 1577921908, 'sys': {'type': 1, 'id': 8487, 'country': 'CL', 'sunrise': 1577866871, 'sunset': 1577927551}, 'timezone': -10800, 'id': 3874787, 'name': 'Punta Arenas', 'cod': 200}\n",
      "{'coord': {'lon': 134.08, 'lat': -0.87}, 'weather': [{'id': 803, 'main': 'Clouds', 'description': 'broken clouds', 'icon': '04d'}], 'base': 'model', 'main': {'temp': 299.9, 'feels_like': 303.47, 'temp_min': 299.9, 'temp_max': 299.9, 'pressure': 1012, 'humidity': 72, 'sea_level': 1012, 'grnd_level': 965}, 'wind': {'speed': 1.08, 'deg': 30}, 'clouds': {'all': 54}, 'dt': 1577921908, 'sys': {'country': 'ID', 'sunrise': 1577912520, 'sunset': 1577956330}, 'timezone': 32400, 'id': 1636308, 'name': 'Manokwari', 'cod': 200}\n",
      "{'coord': {'lon': 1.98, 'lat': 50.04}, 'weather': [{'id': 741, 'main': 'Fog', 'description': 'fog', 'icon': '50n'}], 'base': 'stations', 'main': {'temp': 275.55, 'feels_like': 270.72, 'temp_min': 274.15, 'temp_max': 276.48, 'pressure': 1028, 'humidity': 100}, 'visibility': 650, 'wind': {'speed': 4.6, 'deg': 140}, 'clouds': {'all': 90}, 'dt': 1577921908, 'sys': {'type': 1, 'id': 6446, 'country': 'FR', 'sunrise': 1577951442, 'sunset': 1577980836}, 'timezone': 3600, 'id': 3037853, 'name': 'Long', 'cod': 200}\n",
      "{'coord': {'lon': -73.75, 'lat': 42.65}, 'weather': [{'id': 802, 'main': 'Clouds', 'description': 'scattered clouds', 'icon': '03n'}], 'base': 'stations', 'main': {'temp': 272.71, 'feels_like': 266.56, 'temp_min': 269.82, 'temp_max': 275.15, 'pressure': 1008, 'humidity': 55}, 'visibility': 16093, 'wind': {'speed': 4.6, 'deg': 260}, 'clouds': {'all': 40}, 'dt': 1577921811, 'sys': {'type': 1, 'id': 3273, 'country': 'US', 'sunrise': 1577881506, 'sunset': 1577914279}, 'timezone': -18000, 'id': 5106834, 'name': 'Albany', 'cod': 200}\n",
      "{'coord': {'lon': -52.9, 'lat': 65.42}, 'weather': [{'id': 804, 'main': 'Clouds', 'description': 'overcast clouds', 'icon': '04n'}], 'base': 'model', 'main': {'temp': 263.96, 'feels_like': 257.31, 'temp_min': 263.96, 'temp_max': 263.96, 'pressure': 1005, 'humidity': 87, 'sea_level': 1005, 'grnd_level': 996}, 'wind': {'speed': 5.03, 'deg': 100}, 'clouds': {'all': 100}, 'dt': 1577921909, 'sys': {'country': 'GL', 'sunrise': 1577886426, 'sunset': 1577899348}, 'timezone': -10800, 'id': 3421982, 'name': 'Maniitsoq', 'cod': 200}\n",
      "{'coord': {'lon': -45.24, 'lat': 60.14}, 'weather': [{'id': 802, 'main': 'Clouds', 'description': 'scattered clouds', 'icon': '03n'}], 'base': 'model', 'main': {'temp': 269.98, 'feels_like': 261.21, 'temp_min': 269.98, 'temp_max': 269.98, 'pressure': 1004, 'humidity': 54, 'sea_level': 1004, 'grnd_level': 999}, 'wind': {'speed': 8.05, 'deg': 323}, 'clouds': {'all': 35}, 'dt': 1577921909, 'sys': {'country': 'GL', 'sunrise': 1577880285, 'sunset': 1577901811}, 'timezone': -10800, 'id': 3421765, 'name': 'Nanortalik', 'cod': 200}\n",
      "{'coord': {'lon': -151.75, 'lat': -16.48}, 'weather': [{'id': 804, 'main': 'Clouds', 'description': 'overcast clouds', 'icon': '04d'}], 'base': 'model', 'main': {'temp': 300.83, 'feels_like': 300.6, 'temp_min': 300.83, 'temp_max': 300.83, 'pressure': 1009, 'humidity': 77, 'sea_level': 1009, 'grnd_level': 1009}, 'wind': {'speed': 8.04, 'deg': 5}, 'clouds': {'all': 98}, 'dt': 1577921909, 'sys': {'country': 'PF', 'sunrise': 1577893058, 'sunset': 1577940179}, 'timezone': -36000, 'id': 4034551, 'name': 'Faanui', 'cod': 200}\n",
      "{'cod': '404', 'message': 'city not found'}\n",
      "{'coord': {'lon': 134.26, 'lat': 7.04}, 'weather': [{'id': 804, 'main': 'Clouds', 'description': 'overcast clouds', 'icon': '04d'}], 'base': 'stations', 'main': {'temp': 300.15, 'feels_like': 301.19, 'temp_min': 300.15, 'temp_max': 300.15, 'pressure': 1012, 'humidity': 83}, 'visibility': 22530, 'wind': {'speed': 6.7, 'deg': 50, 'gust': 12.9}, 'clouds': {'all': 90}, 'dt': 1577921909, 'sys': {'type': 1, 'id': 7901, 'country': 'PW', 'sunrise': 1577913284, 'sunset': 1577955479}, 'timezone': 32400, 'id': 7671223, 'name': 'Kloulklubed', 'cod': 200}\n",
      "{'coord': {'lon': -6.55, 'lat': 41.42}, 'weather': [{'id': 801, 'main': 'Clouds', 'description': 'few clouds', 'icon': '02n'}], 'base': 'model', 'main': {'temp': 276.4, 'feels_like': 273.72, 'temp_min': 276.4, 'temp_max': 276.4, 'pressure': 1032, 'humidity': 68, 'sea_level': 1032, 'grnd_level': 954}, 'wind': {'speed': 0.58, 'deg': 30}, 'clouds': {'all': 18}, 'dt': 1577921909, 'sys': {'country': 'PT', 'sunrise': 1577865139, 'sunset': 1577898380}, 'timezone': 0, 'id': 2737599, 'name': 'Saldanha', 'cod': 200}\n",
      "{'coord': {'lon': 19.24, 'lat': -34.42}, 'weather': [{'id': 801, 'main': 'Clouds', 'description': 'few clouds', 'icon': '02n'}], 'base': 'stations', 'main': {'temp': 291.9, 'feels_like': 289.7, 'temp_min': 290.37, 'temp_max': 293.15, 'pressure': 1010, 'humidity': 91}, 'wind': {'speed': 6.68, 'deg': 141}, 'rain': {'3h': 0.06}, 'clouds': {'all': 22}, 'dt': 1577921909, 'sys': {'type': 3, 'id': 2006131, 'country': 'ZA', 'sunrise': 1577936069, 'sunset': 1577987922}, 'timezone': 7200, 'id': 3366880, 'name': 'Hermanus', 'cod': 200}\n",
      "{'coord': {'lon': 74.49, 'lat': 15.34}, 'weather': [{'id': 800, 'main': 'Clear', 'description': 'clear sky', 'icon': '01n'}], 'base': 'model', 'main': {'temp': 289.84, 'feels_like': 290.14, 'temp_min': 289.84, 'temp_max': 289.84, 'pressure': 1014, 'humidity': 80, 'sea_level': 1014, 'grnd_level': 938}, 'wind': {'speed': 1, 'deg': 90}, 'clouds': {'all': 0}, 'dt': 1577921909, 'sys': {'country': 'IN', 'sunrise': 1577928509, 'sunset': 1577968954}, 'timezone': 19800, 'id': 1273574, 'name': 'Vaini', 'cod': 200}\n",
      "{'coord': {'lon': 147.33, 'lat': -42.88}, 'weather': [{'id': 803, 'main': 'Clouds', 'description': 'broken clouds', 'icon': '04d'}], 'base': 'stations', 'main': {'temp': 292.45, 'feels_like': 287.75, 'temp_min': 290.37, 'temp_max': 293.71, 'pressure': 1015, 'humidity': 39}, 'visibility': 10000, 'wind': {'speed': 5.1, 'deg': 290}, 'clouds': {'all': 75}, 'dt': 1577921910, 'sys': {'type': 1, 'id': 9545, 'country': 'AU', 'sunrise': 1577903750, 'sunset': 1577958738}, 'timezone': 39600, 'id': 2163355, 'name': 'Hobart', 'cod': 200}\n",
      "{'coord': {'lon': 172.79, 'lat': 3.07}, 'weather': [{'id': 500, 'main': 'Rain', 'description': 'light rain', 'icon': '10d'}], 'base': 'model', 'main': {'temp': 302.44, 'feels_like': 306.14, 'temp_min': 302.44, 'temp_max': 302.44, 'pressure': 1009, 'humidity': 76, 'sea_level': 1009, 'grnd_level': 1009}, 'wind': {'speed': 3.55, 'deg': 41}, 'rain': {'3h': 2.06}, 'clouds': {'all': 100}, 'dt': 1577921910, 'sys': {'country': 'KI', 'sunrise': 1577903628, 'sunset': 1577946635}, 'timezone': 43200, 'id': 2110227, 'name': 'Butaritari', 'cod': 200}\n"
     ]
    },
    {
     "name": "stdout",
     "output_type": "stream",
     "text": [
      "{'coord': {'lon': -159.78, 'lat': -21.21}, 'weather': [{'id': 500, 'main': 'Rain', 'description': 'light rain', 'icon': '10d'}], 'base': 'stations', 'main': {'temp': 300.15, 'feels_like': 293.7, 'temp_min': 300.15, 'temp_max': 300.15, 'pressure': 999, 'humidity': 74}, 'visibility': 6000, 'wind': {'speed': 15.9, 'deg': 270, 'gust': 21.1}, 'rain': {'3h': 1.25}, 'clouds': {'all': 76}, 'dt': 1577921904, 'sys': {'type': 1, 'id': 7271, 'country': 'CK', 'sunrise': 1577894434, 'sunset': 1577942659}, 'timezone': -36000, 'id': 4035715, 'name': 'Avarua', 'cod': 200}\n",
      "{'coord': {'lon': -52.73, 'lat': 47.66}, 'weather': [{'id': 501, 'main': 'Rain', 'description': 'moderate rain', 'icon': '10n'}, {'id': 701, 'main': 'Mist', 'description': 'mist', 'icon': '50n'}], 'base': 'stations', 'main': {'temp': 274.9, 'feels_like': 268.34, 'temp_min': 274.26, 'temp_max': 275.93, 'pressure': 994, 'humidity': 93}, 'visibility': 1207, 'wind': {'speed': 6.7, 'deg': 200, 'gust': 11.3}, 'rain': {'1h': 2.54}, 'clouds': {'all': 90}, 'dt': 1577921910, 'sys': {'type': 1, 'id': 998, 'country': 'CA', 'sunrise': 1577877560, 'sunset': 1577908132}, 'timezone': -12600, 'id': 6167817, 'name': 'Torbay', 'cod': 200}\n",
      "{'coord': {'lon': 52.16, 'lat': 44.14}, 'weather': [{'id': 802, 'main': 'Clouds', 'description': 'scattered clouds', 'icon': '03n'}], 'base': 'model', 'main': {'temp': 274.73, 'feels_like': 272.4, 'temp_min': 274.73, 'temp_max': 274.73, 'pressure': 1018, 'humidity': 93, 'sea_level': 1018, 'grnd_level': 996}, 'wind': {'speed': 0.62, 'deg': 265}, 'clouds': {'all': 29}, 'dt': 1577921910, 'sys': {'country': 'KZ', 'sunrise': 1577937994, 'sunset': 1577970191}, 'timezone': 18000, 'id': 608324, 'name': 'Shetpe', 'cod': 200}\n",
      "{'coord': {'lon': -70.25, 'lat': 43.66}, 'weather': [{'id': 800, 'main': 'Clear', 'description': 'clear sky', 'icon': '01n'}], 'base': 'stations', 'main': {'temp': 272.85, 'feels_like': 266.89, 'temp_min': 270.93, 'temp_max': 275.37, 'pressure': 1002, 'humidity': 64}, 'visibility': 16093, 'wind': {'speed': 4.6, 'deg': 260}, 'clouds': {'all': 1}, 'dt': 1577921360, 'sys': {'type': 1, 'id': 5454, 'country': 'US', 'sunrise': 1577880870, 'sunset': 1577913234}, 'timezone': -18000, 'id': 4975802, 'name': 'Portland', 'cod': 200}\n",
      "{'cod': '404', 'message': 'city not found'}\n",
      "{'coord': {'lon': 43.28, 'lat': -11.38}, 'weather': [{'id': 801, 'main': 'Clouds', 'description': 'few clouds', 'icon': '02n'}], 'base': 'stations', 'main': {'temp': 301.15, 'feels_like': 305.65, 'temp_min': 301.15, 'temp_max': 301.15, 'pressure': 1010, 'humidity': 83}, 'visibility': 10000, 'wind': {'speed': 2.6, 'deg': 20}, 'clouds': {'all': 20}, 'dt': 1577921910, 'sys': {'type': 1, 'id': 2129, 'country': 'KM', 'sunrise': 1577933228, 'sunset': 1577979220}, 'timezone': 10800, 'id': 921786, 'name': 'Mitsamiouli', 'cod': 200}\n",
      "{'coord': {'lon': -102.05, 'lat': 22.95}, 'weather': [{'id': 804, 'main': 'Clouds', 'description': 'overcast clouds', 'icon': '04d'}], 'base': 'stations', 'main': {'temp': 284.15, 'feels_like': 278.26, 'temp_min': 284.15, 'temp_max': 284.15, 'pressure': 1017, 'humidity': 81}, 'visibility': 9656, 'wind': {'speed': 7.7, 'deg': 210}, 'clouds': {'all': 90}, 'dt': 1577921910, 'sys': {'type': 1, 'id': 7176, 'country': 'MX', 'sunrise': 1577885336, 'sunset': 1577924037}, 'timezone': -21600, 'id': 3974149, 'name': 'Los Zacatones', 'cod': 200}\n",
      "{'coord': {'lon': 26.89, 'lat': -33.59}, 'weather': [{'id': 802, 'main': 'Clouds', 'description': 'scattered clouds', 'icon': '03n'}], 'base': 'stations', 'main': {'temp': 293.71, 'feels_like': 295.7, 'temp_min': 293.71, 'temp_max': 293.71, 'pressure': 1013, 'humidity': 87}, 'wind': {'speed': 1.34, 'deg': 132, 'gust': 3.13}, 'clouds': {'all': 48}, 'dt': 1577921910, 'sys': {'type': 3, 'id': 2011314, 'country': 'ZA', 'sunrise': 1577934363, 'sunset': 1577985954}, 'timezone': 7200, 'id': 964432, 'name': 'Port Alfred', 'cod': 200}\n",
      "{'coord': {'lon': 147.9, 'lat': 70.62}, 'weather': [{'id': 600, 'main': 'Snow', 'description': 'light snow', 'icon': '13n'}], 'base': 'model', 'main': {'temp': 248.57, 'feels_like': 243.4, 'temp_min': 248.57, 'temp_max': 248.57, 'pressure': 1022, 'humidity': 98, 'sea_level': 1022, 'grnd_level': 1020}, 'wind': {'speed': 2.06, 'deg': 315}, 'snow': {'3h': 0.56}, 'clouds': {'all': 100}, 'dt': 1577921911, 'sys': {'country': 'RU', 'sunrise': 0, 'sunset': 0}, 'timezone': 39600, 'id': 2126123, 'name': 'Chokurdakh', 'cod': 200}\n",
      "{'coord': {'lon': 150.51, 'lat': -35.26}, 'weather': [{'id': 804, 'main': 'Clouds', 'description': 'overcast clouds', 'icon': '04d'}], 'base': 'stations', 'main': {'temp': 294.67, 'feels_like': 295.39, 'temp_min': 294.15, 'temp_max': 295.37, 'pressure': 1019, 'humidity': 60}, 'visibility': 3900, 'wind': {'speed': 0.5, 'deg': 40}, 'clouds': {'all': 90}, 'dt': 1577921911, 'sys': {'type': 1, 'id': 9594, 'country': 'AU', 'sunrise': 1577904411, 'sunset': 1577956550}, 'timezone': 39600, 'id': 2145554, 'name': 'Manyana', 'cod': 200}\n",
      "{'coord': {'lon': -155.08, 'lat': 19.71}, 'weather': [{'id': 802, 'main': 'Clouds', 'description': 'scattered clouds', 'icon': '03d'}], 'base': 'stations', 'main': {'temp': 297.59, 'feels_like': 296.51, 'temp_min': 295.37, 'temp_max': 301.15, 'pressure': 1017, 'humidity': 54}, 'visibility': 16093, 'wind': {'speed': 3.6, 'deg': 120}, 'clouds': {'all': 40}, 'dt': 1577921911, 'sys': {'type': 1, 'id': 7881, 'country': 'US', 'sunrise': 1577897686, 'sunset': 1577937150}, 'timezone': -36000, 'id': 5855927, 'name': 'Hilo', 'cod': 200}\n",
      "{'coord': {'lon': -99.65, 'lat': 37.17}, 'weather': [{'id': 800, 'main': 'Clear', 'description': 'clear sky', 'icon': '01n'}], 'base': 'model', 'main': {'temp': 282.61, 'feels_like': 278.21, 'temp_min': 282.61, 'temp_max': 282.61, 'pressure': 998, 'humidity': 39, 'sea_level': 998, 'grnd_level': 934}, 'wind': {'speed': 2.74, 'deg': 241}, 'clouds': {'all': 0}, 'dt': 1577921911, 'sys': {'country': 'US', 'sunrise': 1577886736, 'sunset': 1577921485}, 'timezone': -21600, 'id': 4267710, 'name': 'Sitka', 'cod': 200}\n",
      "{'coord': {'lon': 153.41, 'lat': -28}, 'weather': [{'id': 801, 'main': 'Clouds', 'description': 'few clouds', 'icon': '02d'}], 'base': 'stations', 'main': {'temp': 302.05, 'feels_like': 302.05, 'temp_min': 300.93, 'temp_max': 303.71, 'pressure': 1017, 'humidity': 61}, 'visibility': 10000, 'wind': {'speed': 5.7, 'deg': 10}, 'clouds': {'all': 20}, 'dt': 1577921911, 'sys': {'type': 1, 'id': 9486, 'country': 'AU', 'sunrise': 1577904802, 'sunset': 1577954767}, 'timezone': 36000, 'id': 2165087, 'name': 'Gold Coast', 'cod': 200}\n",
      "{'coord': {'lon': 30.91, 'lat': 3.02}, 'weather': [{'id': 804, 'main': 'Clouds', 'description': 'overcast clouds', 'icon': '04n'}], 'base': 'model', 'main': {'temp': 296.85, 'feels_like': 296.46, 'temp_min': 296.85, 'temp_max': 296.85, 'pressure': 1010, 'humidity': 44, 'sea_level': 1010, 'grnd_level': 894}, 'wind': {'speed': 0.9, 'deg': 178}, 'clouds': {'all': 92}, 'dt': 1577921911, 'sys': {'country': 'UG', 'sunrise': 1577937684, 'sunset': 1577980703}, 'timezone': 10800, 'id': 235039, 'name': 'Arua', 'cod': 200}\n",
      "{'coord': {'lon': 9.51, 'lat': 52.55}, 'weather': [{'id': 800, 'main': 'Clear', 'description': 'clear sky', 'icon': '01n'}], 'base': 'stations', 'main': {'temp': 269.82, 'feels_like': 266.92, 'temp_min': 268.15, 'temp_max': 271.48, 'pressure': 1029, 'humidity': 92}, 'visibility': 10000, 'wind': {'speed': 0.5}, 'clouds': {'all': 0}, 'dt': 1577921911, 'sys': {'type': 1, 'id': 1276, 'country': 'DE', 'sunrise': 1577950370, 'sunset': 1577978293}, 'timezone': 3600, 'id': 3221033, 'name': 'Basse', 'cod': 200}\n",
      "{'coord': {'lon': -68.31, 'lat': -54.81}, 'weather': [{'id': 300, 'main': 'Drizzle', 'description': 'light intensity drizzle', 'icon': '09d'}], 'base': 'stations', 'main': {'temp': 291.15, 'feels_like': 286.01, 'temp_min': 291.15, 'temp_max': 291.15, 'pressure': 1001, 'humidity': 42}, 'visibility': 10000, 'wind': {'speed': 5.7, 'deg': 250}, 'clouds': {'all': 75}, 'dt': 1577921911, 'sys': {'type': 1, 'id': 8303, 'country': 'AR', 'sunrise': 1577865612, 'sunset': 1577927561}, 'timezone': -10800, 'id': 3833367, 'name': 'Ushuaia', 'cod': 200}\n",
      "{'cod': '404', 'message': 'city not found'}\n",
      "{'coord': {'lon': 40.71, 'lat': 7.14}, 'weather': [{'id': 801, 'main': 'Clouds', 'description': 'few clouds', 'icon': '02n'}], 'base': 'model', 'main': {'temp': 287.44, 'feels_like': 286.44, 'temp_min': 287.44, 'temp_max': 287.44, 'pressure': 1014, 'humidity': 80, 'sea_level': 1014, 'grnd_level': 813}, 'wind': {'speed': 1.84, 'deg': 312}, 'clouds': {'all': 23}, 'dt': 1577921911, 'sys': {'country': 'ET', 'sunrise': 1577935753, 'sunset': 1577977929}, 'timezone': 10800, 'id': 336454, 'name': 'Ginir', 'cod': 200}\n"
     ]
    },
    {
     "name": "stdout",
     "output_type": "stream",
     "text": [
      "{'coord': {'lon': 23.6, 'lat': -3.52}, 'weather': [{'id': 804, 'main': 'Clouds', 'description': 'overcast clouds', 'icon': '04n'}], 'base': 'model', 'main': {'temp': 294.77, 'feels_like': 298.39, 'temp_min': 294.77, 'temp_max': 294.77, 'pressure': 1009, 'humidity': 96, 'sea_level': 1009, 'grnd_level': 953}, 'wind': {'speed': 0.78, 'deg': 147}, 'clouds': {'all': 100}, 'dt': 1577921912, 'sys': {'country': 'CD', 'sunrise': 1577938773, 'sunset': 1577983124}, 'timezone': 7200, 'id': 211647, 'name': 'Lodja', 'cod': 200}\n",
      "{'coord': {'lon': 115.35, 'lat': -33.64}, 'weather': [{'id': 804, 'main': 'Clouds', 'description': 'overcast clouds', 'icon': '04d'}], 'base': 'stations', 'main': {'temp': 290.09, 'feels_like': 287.28, 'temp_min': 289.26, 'temp_max': 290.93, 'pressure': 1006, 'humidity': 58}, 'wind': {'speed': 3.57, 'deg': 217}, 'clouds': {'all': 98}, 'dt': 1577921912, 'sys': {'type': 3, 'id': 2011706, 'country': 'AU', 'sunrise': 1577913114, 'sunset': 1577964729}, 'timezone': 28800, 'id': 2075265, 'name': 'Busselton', 'cod': 200}\n",
      "{'coord': {'lon': 168.86, 'lat': -46.19}, 'weather': [{'id': 804, 'main': 'Clouds', 'description': 'overcast clouds', 'icon': '04d'}], 'base': 'stations', 'main': {'temp': 289.82, 'feels_like': 288.75, 'temp_min': 289.82, 'temp_max': 289.82, 'pressure': 1010, 'humidity': 77}, 'wind': {'speed': 2.68, 'deg': 213, 'gust': 4.92}, 'rain': {'3h': 0.06}, 'clouds': {'all': 99}, 'dt': 1577921912, 'sys': {'type': 3, 'id': 2008959, 'country': 'NZ', 'sunrise': 1577897821, 'sunset': 1577954330}, 'timezone': 46800, 'id': 6201424, 'name': 'Mataura', 'cod': 200}\n",
      "{'coord': {'lon': -114.38, 'lat': 62.45}, 'weather': [{'id': 600, 'main': 'Snow', 'description': 'light snow', 'icon': '13n'}], 'base': 'stations', 'main': {'temp': 259.15, 'feels_like': 254.25, 'temp_min': 259.15, 'temp_max': 259.15, 'pressure': 997, 'humidity': 84}, 'visibility': 24140, 'wind': {'speed': 2.1, 'deg': 30}, 'clouds': {'all': 75}, 'dt': 1577921912, 'sys': {'type': 1, 'id': 1007, 'country': 'CA', 'sunrise': 1577898358, 'sunset': 1577916935}, 'timezone': -25200, 'id': 6185377, 'name': 'Yellowknife', 'cod': 200}\n",
      "{'cod': '404', 'message': 'city not found'}\n",
      "{'coord': {'lon': 6.71, 'lat': 58.66}, 'weather': [{'id': 803, 'main': 'Clouds', 'description': 'broken clouds', 'icon': '04n'}], 'base': 'stations', 'main': {'temp': 278.82, 'feels_like': 274.05, 'temp_min': 278.15, 'temp_max': 279.82, 'pressure': 1017, 'humidity': 93}, 'visibility': 10000, 'wind': {'speed': 5.1, 'deg': 190}, 'clouds': {'all': 75}, 'dt': 1577921912, 'sys': {'type': 1, 'id': 1680, 'country': 'NO', 'sunrise': 1577953418, 'sunset': 1577976589}, 'timezone': 3600, 'id': 3134327, 'name': 'Tonstad', 'cod': 200}\n",
      "{'cod': '404', 'message': 'city not found'}\n"
     ]
    }
   ],
   "source": [
    "cloudiness=[]\n",
    "country =[]\n",
    "date =[]\n",
    "humidity=[]\n",
    "lat=[]\n",
    "lng=[]\n",
    "temp_max=[]\n",
    "temp_min=[]\n",
    "wind_speed=[]\n",
    "\n",
    "#for city in cities:\n",
    "    #response = requests.get(query_url + city).json()\n",
    "for city in cities:\n",
    "    response = requests.get(query_url + city).json()\n",
    "    #cloudiness.append(response[\"clouds\"][\"all\"])\n",
    "    #print(city)\n",
    "    print(response)\n",
    "#cloudiness"
   ]
  },
  {
   "cell_type": "markdown",
   "metadata": {},
   "source": [
    "### Convert Raw Data to DataFrame\n",
    "* Export the city data into a .csv.\n",
    "* Display the DataFrame"
   ]
  },
  {
   "cell_type": "code",
   "execution_count": null,
   "metadata": {},
   "outputs": [],
   "source": []
  },
  {
   "cell_type": "code",
   "execution_count": null,
   "metadata": {},
   "outputs": [],
   "source": []
  },
  {
   "cell_type": "markdown",
   "metadata": {},
   "source": [
    "### Plotting the Data\n",
    "* Use proper labeling of the plots using plot titles (including date of analysis) and axes labels.\n",
    "* Save the plotted figures as .pngs."
   ]
  },
  {
   "cell_type": "markdown",
   "metadata": {},
   "source": [
    "#### Latitude vs. Temperature Plot"
   ]
  },
  {
   "cell_type": "code",
   "execution_count": null,
   "metadata": {
    "scrolled": true
   },
   "outputs": [],
   "source": []
  },
  {
   "cell_type": "markdown",
   "metadata": {},
   "source": [
    "#### Latitude vs. Humidity Plot"
   ]
  },
  {
   "cell_type": "code",
   "execution_count": null,
   "metadata": {},
   "outputs": [],
   "source": []
  },
  {
   "cell_type": "markdown",
   "metadata": {},
   "source": [
    "#### Latitude vs. Cloudiness Plot"
   ]
  },
  {
   "cell_type": "code",
   "execution_count": null,
   "metadata": {},
   "outputs": [],
   "source": []
  },
  {
   "cell_type": "markdown",
   "metadata": {},
   "source": [
    "#### Latitude vs. Wind Speed Plot"
   ]
  },
  {
   "cell_type": "code",
   "execution_count": null,
   "metadata": {},
   "outputs": [],
   "source": []
  },
  {
   "cell_type": "markdown",
   "metadata": {},
   "source": [
    "## Linear Regression"
   ]
  },
  {
   "cell_type": "code",
   "execution_count": null,
   "metadata": {},
   "outputs": [],
   "source": [
    "# OPTIONAL: Create a function to create Linear Regression plots\n"
   ]
  },
  {
   "cell_type": "code",
   "execution_count": null,
   "metadata": {},
   "outputs": [],
   "source": [
    "# Create Northern and Southern Hemisphere DataFrames\n"
   ]
  },
  {
   "cell_type": "markdown",
   "metadata": {},
   "source": [
    "####  Northern Hemisphere - Max Temp vs. Latitude Linear Regression"
   ]
  },
  {
   "cell_type": "code",
   "execution_count": null,
   "metadata": {},
   "outputs": [],
   "source": []
  },
  {
   "cell_type": "markdown",
   "metadata": {},
   "source": [
    "####  Southern Hemisphere - Max Temp vs. Latitude Linear Regression"
   ]
  },
  {
   "cell_type": "code",
   "execution_count": null,
   "metadata": {},
   "outputs": [],
   "source": []
  },
  {
   "cell_type": "markdown",
   "metadata": {},
   "source": [
    "####  Northern Hemisphere - Humidity (%) vs. Latitude Linear Regression"
   ]
  },
  {
   "cell_type": "code",
   "execution_count": null,
   "metadata": {},
   "outputs": [],
   "source": []
  },
  {
   "cell_type": "markdown",
   "metadata": {},
   "source": [
    "####  Southern Hemisphere - Humidity (%) vs. Latitude Linear Regression"
   ]
  },
  {
   "cell_type": "code",
   "execution_count": null,
   "metadata": {},
   "outputs": [],
   "source": []
  },
  {
   "cell_type": "markdown",
   "metadata": {},
   "source": [
    "####  Northern Hemisphere - Cloudiness (%) vs. Latitude Linear Regression"
   ]
  },
  {
   "cell_type": "code",
   "execution_count": null,
   "metadata": {},
   "outputs": [],
   "source": []
  },
  {
   "cell_type": "markdown",
   "metadata": {},
   "source": [
    "####  Southern Hemisphere - Cloudiness (%) vs. Latitude Linear Regression"
   ]
  },
  {
   "cell_type": "code",
   "execution_count": null,
   "metadata": {},
   "outputs": [],
   "source": []
  },
  {
   "cell_type": "markdown",
   "metadata": {},
   "source": [
    "####  Northern Hemisphere - Wind Speed (mph) vs. Latitude Linear Regression"
   ]
  },
  {
   "cell_type": "code",
   "execution_count": null,
   "metadata": {},
   "outputs": [],
   "source": []
  },
  {
   "cell_type": "markdown",
   "metadata": {},
   "source": [
    "####  Southern Hemisphere - Wind Speed (mph) vs. Latitude Linear Regression"
   ]
  },
  {
   "cell_type": "code",
   "execution_count": null,
   "metadata": {},
   "outputs": [],
   "source": []
  },
  {
   "cell_type": "code",
   "execution_count": null,
   "metadata": {},
   "outputs": [],
   "source": []
  }
 ],
 "metadata": {
  "anaconda-cloud": {},
  "kernel_info": {
   "name": "python3"
  },
  "kernelspec": {
   "display_name": "Python 3",
   "language": "python",
   "name": "python3"
  },
  "language_info": {
   "codemirror_mode": {
    "name": "ipython",
    "version": 3
   },
   "file_extension": ".py",
   "mimetype": "text/x-python",
   "name": "python",
   "nbconvert_exporter": "python",
   "pygments_lexer": "ipython3",
   "version": "3.7.4"
  },
  "latex_envs": {
   "LaTeX_envs_menu_present": true,
   "autoclose": false,
   "autocomplete": true,
   "bibliofile": "biblio.bib",
   "cite_by": "apalike",
   "current_citInitial": 1,
   "eqLabelWithNumbers": true,
   "eqNumInitial": 1,
   "hotkeys": {
    "equation": "Ctrl-E",
    "itemize": "Ctrl-I"
   },
   "labels_anchors": false,
   "latex_user_defs": false,
   "report_style_numbering": false,
   "user_envs_cfg": false
  },
  "nteract": {
   "version": "0.12.3"
  }
 },
 "nbformat": 4,
 "nbformat_minor": 2
}
